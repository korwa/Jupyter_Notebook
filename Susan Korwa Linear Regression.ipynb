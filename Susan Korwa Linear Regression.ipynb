{
 "cells": [
  {
   "cell_type": "markdown",
   "id": "8bc704ff",
   "metadata": {},
   "source": [
    "# TRENDS IN MATERNAL DEATH IN KENYA"
   ]
  },
  {
   "cell_type": "markdown",
   "id": "e778ef4c",
   "metadata": {},
   "source": [
    "### ABSTRACT\n",
    "Maternal death refers to the death of a woman while pregnant or within 42 days of termination of pregnancy, irrespective of the duration and site of the pregnancy, from any cause related to or aggravated by the pregnancy or its management but not from accidental or incidental causes. This paper highlights maternal death trends in Kenya since the year 2000 to 2017 and highlights Nakuru as county with a high burden of maternal deaths."
   ]
  },
  {
   "cell_type": "markdown",
   "id": "89758645",
   "metadata": {},
   "source": [
    "### Introduction\n",
    "In Kenya, maternal deaths are curretly high at 488 maternal deaths per 100,000.While this is below the sub-saharan average of 640 Kenya is experiencing a very slow progression in maternal health. Most of the causes of maternal deaths include but are not limited to\n",
    "- Complications from unsafe abortions\n",
    "- Obstretic comlications such as severe bleeding.\n",
    "- Infections\n",
    "- Hypertensive disorders\n",
    "- Obstructed labor\n",
    "- Some diseases are also aggravated by pregnancy such as malaris,diabetes,hepatitis and anaemia\n",
    "\n",
    "These conditions are worsened by;\n",
    "- Poor health infrastructure\n",
    "- Low rates of skilled birth attendance\n",
    "- Low access to family planning services and high rates of adolescent pregnancy.\n",
    "\n",
    "For many women in Kenya, their husbands act as gate-keepers in accessing  healthcare services. It is mostly men who decide where a woman will give birth and if she will be attending clinics especially in Rural areas.This is due to the socio-economic challenges women face which makes them lack decision-making power in households.It is therefore paramount that for these interventions men be included"
   ]
  },
  {
   "cell_type": "markdown",
   "id": "f52b616e",
   "metadata": {},
   "source": [
    "#### High Burden Maternal Death Counties\n",
    "15 of Kenyas 47 counties lead in maternal deaths and they are:-\n",
    "Garissa,Homabay,Isiolo,Kakamega,Kisumu,Lamu,Mandera,Marsabit, Migori,Nairobi,Nakuru,Siaya,Taita-taveta,Turkana and Wajir\n",
    "<br>The North Eastern counties experience high maternal deaths due to their practises of child marriage and FGM. The most common cause of death for girls aged 15-19 in these regions is maternal death.</br>\n",
    "<br>Below lets look at Data depicting Maternal death trends since the year 2000-2017 and see if we can predict future trends based on the data we have</br>"
   ]
  },
  {
   "cell_type": "markdown",
   "id": "13d3f4c8",
   "metadata": {},
   "source": [
    "### TOTAL NUMBER OF MATERNAL DEATHS IN KENYA\n"
   ]
  },
  {
   "cell_type": "code",
   "execution_count": 4,
   "id": "99f6892e",
   "metadata": {},
   "outputs": [],
   "source": [
    "import matplotlib.pyplot as plt"
   ]
  },
  {
   "cell_type": "code",
   "execution_count": 5,
   "id": "ca89ecc0",
   "metadata": {},
   "outputs": [],
   "source": [
    "%matplotlib inline"
   ]
  },
  {
   "cell_type": "code",
   "execution_count": 6,
   "id": "683e8ca3",
   "metadata": {},
   "outputs": [],
   "source": [
    "import pandas as pd"
   ]
  },
  {
   "cell_type": "code",
   "execution_count": 7,
   "id": "dd96e140",
   "metadata": {},
   "outputs": [],
   "source": [
    "#Loading the dataset containing maternal deaths in Kenya\n",
    "MaternalDeaths= pd.read_csv('API_SH.MMR.DTHS_DS2_en_excel_v2_3161082.csv')"
   ]
  },
  {
   "cell_type": "code",
   "execution_count": 8,
   "id": "b747e90e",
   "metadata": {},
   "outputs": [
    {
     "data": {
      "text/html": [
       "<div>\n",
       "<style scoped>\n",
       "    .dataframe tbody tr th:only-of-type {\n",
       "        vertical-align: middle;\n",
       "    }\n",
       "\n",
       "    .dataframe tbody tr th {\n",
       "        vertical-align: top;\n",
       "    }\n",
       "\n",
       "    .dataframe thead th {\n",
       "        text-align: right;\n",
       "    }\n",
       "</style>\n",
       "<table border=\"1\" class=\"dataframe\">\n",
       "  <thead>\n",
       "    <tr style=\"text-align: right;\">\n",
       "      <th></th>\n",
       "      <th>Year</th>\n",
       "      <th>Number of maternal deaths</th>\n",
       "    </tr>\n",
       "  </thead>\n",
       "  <tbody>\n",
       "    <tr>\n",
       "      <th>0</th>\n",
       "      <td>2000</td>\n",
       "      <td>9100</td>\n",
       "    </tr>\n",
       "    <tr>\n",
       "      <th>1</th>\n",
       "      <td>2001</td>\n",
       "      <td>9200</td>\n",
       "    </tr>\n",
       "    <tr>\n",
       "      <th>2</th>\n",
       "      <td>2002</td>\n",
       "      <td>9200</td>\n",
       "    </tr>\n",
       "    <tr>\n",
       "      <th>3</th>\n",
       "      <td>2003</td>\n",
       "      <td>9200</td>\n",
       "    </tr>\n",
       "    <tr>\n",
       "      <th>4</th>\n",
       "      <td>2004</td>\n",
       "      <td>9100</td>\n",
       "    </tr>\n",
       "  </tbody>\n",
       "</table>\n",
       "</div>"
      ],
      "text/plain": [
       "   Year  Number of maternal deaths\n",
       "0  2000                       9100\n",
       "1  2001                       9200\n",
       "2  2002                       9200\n",
       "3  2003                       9200\n",
       "4  2004                       9100"
      ]
     },
     "execution_count": 8,
     "metadata": {},
     "output_type": "execute_result"
    }
   ],
   "source": [
    "#preview of the data set\n",
    "MaternalDeaths.head()"
   ]
  },
  {
   "cell_type": "code",
   "execution_count": 185,
   "id": "f2315d92",
   "metadata": {},
   "outputs": [
    {
     "data": {
      "text/html": [
       "<div>\n",
       "<style scoped>\n",
       "    .dataframe tbody tr th:only-of-type {\n",
       "        vertical-align: middle;\n",
       "    }\n",
       "\n",
       "    .dataframe tbody tr th {\n",
       "        vertical-align: top;\n",
       "    }\n",
       "\n",
       "    .dataframe thead th {\n",
       "        text-align: right;\n",
       "    }\n",
       "</style>\n",
       "<table border=\"1\" class=\"dataframe\">\n",
       "  <thead>\n",
       "    <tr style=\"text-align: right;\">\n",
       "      <th></th>\n",
       "      <th>Year</th>\n",
       "      <th>Number of maternal deaths</th>\n",
       "    </tr>\n",
       "  </thead>\n",
       "  <tbody>\n",
       "    <tr>\n",
       "      <th>13</th>\n",
       "      <td>2013</td>\n",
       "      <td>5400</td>\n",
       "    </tr>\n",
       "    <tr>\n",
       "      <th>14</th>\n",
       "      <td>2014</td>\n",
       "      <td>5300</td>\n",
       "    </tr>\n",
       "    <tr>\n",
       "      <th>15</th>\n",
       "      <td>2015</td>\n",
       "      <td>5200</td>\n",
       "    </tr>\n",
       "    <tr>\n",
       "      <th>16</th>\n",
       "      <td>2016</td>\n",
       "      <td>5100</td>\n",
       "    </tr>\n",
       "    <tr>\n",
       "      <th>17</th>\n",
       "      <td>2017</td>\n",
       "      <td>5000</td>\n",
       "    </tr>\n",
       "  </tbody>\n",
       "</table>\n",
       "</div>"
      ],
      "text/plain": [
       "    Year  Number of maternal deaths\n",
       "13  2013                       5400\n",
       "14  2014                       5300\n",
       "15  2015                       5200\n",
       "16  2016                       5100\n",
       "17  2017                       5000"
      ]
     },
     "execution_count": 185,
     "metadata": {},
     "output_type": "execute_result"
    }
   ],
   "source": [
    "MaternalDeaths.tail()"
   ]
  },
  {
   "cell_type": "code",
   "execution_count": 186,
   "id": "727003dc",
   "metadata": {},
   "outputs": [],
   "source": [
    "# Changing the name of column 2 for analysis\n",
    "MaternalDeaths.columns=('Year','Number_of_Maternal_deaths')"
   ]
  },
  {
   "cell_type": "code",
   "execution_count": 187,
   "id": "87787c2b",
   "metadata": {},
   "outputs": [
    {
     "data": {
      "text/html": [
       "<div>\n",
       "<style scoped>\n",
       "    .dataframe tbody tr th:only-of-type {\n",
       "        vertical-align: middle;\n",
       "    }\n",
       "\n",
       "    .dataframe tbody tr th {\n",
       "        vertical-align: top;\n",
       "    }\n",
       "\n",
       "    .dataframe thead th {\n",
       "        text-align: right;\n",
       "    }\n",
       "</style>\n",
       "<table border=\"1\" class=\"dataframe\">\n",
       "  <thead>\n",
       "    <tr style=\"text-align: right;\">\n",
       "      <th></th>\n",
       "      <th>Year</th>\n",
       "      <th>Number_of_Maternal_deaths</th>\n",
       "    </tr>\n",
       "  </thead>\n",
       "  <tbody>\n",
       "    <tr>\n",
       "      <th>0</th>\n",
       "      <td>2000</td>\n",
       "      <td>9100</td>\n",
       "    </tr>\n",
       "    <tr>\n",
       "      <th>1</th>\n",
       "      <td>2001</td>\n",
       "      <td>9200</td>\n",
       "    </tr>\n",
       "    <tr>\n",
       "      <th>2</th>\n",
       "      <td>2002</td>\n",
       "      <td>9200</td>\n",
       "    </tr>\n",
       "    <tr>\n",
       "      <th>3</th>\n",
       "      <td>2003</td>\n",
       "      <td>9200</td>\n",
       "    </tr>\n",
       "    <tr>\n",
       "      <th>4</th>\n",
       "      <td>2004</td>\n",
       "      <td>9100</td>\n",
       "    </tr>\n",
       "  </tbody>\n",
       "</table>\n",
       "</div>"
      ],
      "text/plain": [
       "   Year  Number_of_Maternal_deaths\n",
       "0  2000                       9100\n",
       "1  2001                       9200\n",
       "2  2002                       9200\n",
       "3  2003                       9200\n",
       "4  2004                       9100"
      ]
     },
     "execution_count": 187,
     "metadata": {},
     "output_type": "execute_result"
    }
   ],
   "source": [
    "MaternalDeaths.head()"
   ]
  },
  {
   "cell_type": "markdown",
   "id": "cb939870",
   "metadata": {},
   "source": [
    "## Splitting data for training and testing"
   ]
  },
  {
   "cell_type": "code",
   "execution_count": 188,
   "id": "67a5b2a6",
   "metadata": {},
   "outputs": [
    {
     "data": {
      "text/plain": [
       "numpy.ndarray"
      ]
     },
     "execution_count": 188,
     "metadata": {},
     "output_type": "execute_result"
    }
   ],
   "source": [
    "#Series- 1 dimensional and DataFrame = in pandas -reshape(-1,1)\n",
    "type(MaternalDeaths.Year.values)"
   ]
  },
  {
   "cell_type": "code",
   "execution_count": 189,
   "id": "272b8975",
   "metadata": {},
   "outputs": [
    {
     "data": {
      "text/plain": [
       "(18,)"
      ]
     },
     "execution_count": 189,
     "metadata": {},
     "output_type": "execute_result"
    }
   ],
   "source": [
    "MaternalDeaths.Year.values.shape"
   ]
  },
  {
   "cell_type": "code",
   "execution_count": 190,
   "id": "25d8fa7a",
   "metadata": {},
   "outputs": [
    {
     "data": {
      "text/plain": [
       "1"
      ]
     },
     "execution_count": 190,
     "metadata": {},
     "output_type": "execute_result"
    }
   ],
   "source": [
    "MaternalDeaths.Year.values.ndim"
   ]
  },
  {
   "cell_type": "code",
   "execution_count": 191,
   "id": "ca7184ec",
   "metadata": {},
   "outputs": [],
   "source": [
    "# import \n",
    "from sklearn.model_selection import train_test_split"
   ]
  },
  {
   "cell_type": "code",
   "execution_count": 192,
   "id": "482cda00",
   "metadata": {},
   "outputs": [
    {
     "data": {
      "text/html": [
       "<div>\n",
       "<style scoped>\n",
       "    .dataframe tbody tr th:only-of-type {\n",
       "        vertical-align: middle;\n",
       "    }\n",
       "\n",
       "    .dataframe tbody tr th {\n",
       "        vertical-align: top;\n",
       "    }\n",
       "\n",
       "    .dataframe thead th {\n",
       "        text-align: right;\n",
       "    }\n",
       "</style>\n",
       "<table border=\"1\" class=\"dataframe\">\n",
       "  <thead>\n",
       "    <tr style=\"text-align: right;\">\n",
       "      <th></th>\n",
       "      <th>Year</th>\n",
       "      <th>Number_of_Maternal_deaths</th>\n",
       "    </tr>\n",
       "  </thead>\n",
       "  <tbody>\n",
       "    <tr>\n",
       "      <th>0</th>\n",
       "      <td>2000</td>\n",
       "      <td>9100</td>\n",
       "    </tr>\n",
       "    <tr>\n",
       "      <th>1</th>\n",
       "      <td>2001</td>\n",
       "      <td>9200</td>\n",
       "    </tr>\n",
       "    <tr>\n",
       "      <th>2</th>\n",
       "      <td>2002</td>\n",
       "      <td>9200</td>\n",
       "    </tr>\n",
       "    <tr>\n",
       "      <th>3</th>\n",
       "      <td>2003</td>\n",
       "      <td>9200</td>\n",
       "    </tr>\n",
       "    <tr>\n",
       "      <th>4</th>\n",
       "      <td>2004</td>\n",
       "      <td>9100</td>\n",
       "    </tr>\n",
       "    <tr>\n",
       "      <th>5</th>\n",
       "      <td>2005</td>\n",
       "      <td>8700</td>\n",
       "    </tr>\n",
       "    <tr>\n",
       "      <th>6</th>\n",
       "      <td>2006</td>\n",
       "      <td>8300</td>\n",
       "    </tr>\n",
       "    <tr>\n",
       "      <th>7</th>\n",
       "      <td>2007</td>\n",
       "      <td>7900</td>\n",
       "    </tr>\n",
       "    <tr>\n",
       "      <th>8</th>\n",
       "      <td>2008</td>\n",
       "      <td>7500</td>\n",
       "    </tr>\n",
       "    <tr>\n",
       "      <th>9</th>\n",
       "      <td>2009</td>\n",
       "      <td>6900</td>\n",
       "    </tr>\n",
       "    <tr>\n",
       "      <th>10</th>\n",
       "      <td>2010</td>\n",
       "      <td>6400</td>\n",
       "    </tr>\n",
       "    <tr>\n",
       "      <th>11</th>\n",
       "      <td>2011</td>\n",
       "      <td>5900</td>\n",
       "    </tr>\n",
       "    <tr>\n",
       "      <th>12</th>\n",
       "      <td>2012</td>\n",
       "      <td>5500</td>\n",
       "    </tr>\n",
       "    <tr>\n",
       "      <th>13</th>\n",
       "      <td>2013</td>\n",
       "      <td>5400</td>\n",
       "    </tr>\n",
       "    <tr>\n",
       "      <th>14</th>\n",
       "      <td>2014</td>\n",
       "      <td>5300</td>\n",
       "    </tr>\n",
       "    <tr>\n",
       "      <th>15</th>\n",
       "      <td>2015</td>\n",
       "      <td>5200</td>\n",
       "    </tr>\n",
       "    <tr>\n",
       "      <th>16</th>\n",
       "      <td>2016</td>\n",
       "      <td>5100</td>\n",
       "    </tr>\n",
       "    <tr>\n",
       "      <th>17</th>\n",
       "      <td>2017</td>\n",
       "      <td>5000</td>\n",
       "    </tr>\n",
       "  </tbody>\n",
       "</table>\n",
       "</div>"
      ],
      "text/plain": [
       "    Year  Number_of_Maternal_deaths\n",
       "0   2000                       9100\n",
       "1   2001                       9200\n",
       "2   2002                       9200\n",
       "3   2003                       9200\n",
       "4   2004                       9100\n",
       "5   2005                       8700\n",
       "6   2006                       8300\n",
       "7   2007                       7900\n",
       "8   2008                       7500\n",
       "9   2009                       6900\n",
       "10  2010                       6400\n",
       "11  2011                       5900\n",
       "12  2012                       5500\n",
       "13  2013                       5400\n",
       "14  2014                       5300\n",
       "15  2015                       5200\n",
       "16  2016                       5100\n",
       "17  2017                       5000"
      ]
     },
     "execution_count": 192,
     "metadata": {},
     "output_type": "execute_result"
    }
   ],
   "source": [
    "MaternalDeaths"
   ]
  },
  {
   "cell_type": "code",
   "execution_count": 193,
   "id": "d1528248",
   "metadata": {
    "scrolled": true
   },
   "outputs": [],
   "source": [
    "X_train,x_test,y_train,y_test = train_test_split(MaternalDeaths.Year.values.reshape(-1,1), MaternalDeaths.Number_of_Maternal_deaths.values, random_state=11)"
   ]
  },
  {
   "cell_type": "code",
   "execution_count": 194,
   "id": "8c6628cb",
   "metadata": {},
   "outputs": [
    {
     "data": {
      "text/plain": [
       "(13, 1)"
      ]
     },
     "execution_count": 194,
     "metadata": {},
     "output_type": "execute_result"
    }
   ],
   "source": [
    "X_train.shape"
   ]
  },
  {
   "cell_type": "code",
   "execution_count": 195,
   "id": "30ce70d6",
   "metadata": {},
   "outputs": [
    {
     "data": {
      "text/plain": [
       "(13,)"
      ]
     },
     "execution_count": 195,
     "metadata": {},
     "output_type": "execute_result"
    }
   ],
   "source": [
    "y_train.shape"
   ]
  },
  {
   "cell_type": "code",
   "execution_count": 196,
   "id": "55cf5c2c",
   "metadata": {},
   "outputs": [
    {
     "data": {
      "text/plain": [
       "(5, 1)"
      ]
     },
     "execution_count": 196,
     "metadata": {},
     "output_type": "execute_result"
    }
   ],
   "source": [
    "x_test.shape"
   ]
  },
  {
   "cell_type": "code",
   "execution_count": 197,
   "id": "e0d702a9",
   "metadata": {},
   "outputs": [
    {
     "data": {
      "text/plain": [
       "(5,)"
      ]
     },
     "execution_count": 197,
     "metadata": {},
     "output_type": "execute_result"
    }
   ],
   "source": [
    "y_test.shape"
   ]
  },
  {
   "cell_type": "code",
   "execution_count": 198,
   "id": "c4f9c06f",
   "metadata": {},
   "outputs": [
    {
     "data": {
      "text/plain": [
       "72.22222222222221"
      ]
     },
     "execution_count": 198,
     "metadata": {},
     "output_type": "execute_result"
    }
   ],
   "source": [
    "13/(13+5)*100"
   ]
  },
  {
   "cell_type": "code",
   "execution_count": 199,
   "id": "4e879f16",
   "metadata": {},
   "outputs": [],
   "source": [
    "#training the model\n",
    "from sklearn.linear_model import LinearRegression"
   ]
  },
  {
   "cell_type": "code",
   "execution_count": 200,
   "id": "7d192101",
   "metadata": {},
   "outputs": [],
   "source": [
    "linear_regression=LinearRegression()"
   ]
  },
  {
   "cell_type": "code",
   "execution_count": 201,
   "id": "d7c89a49",
   "metadata": {},
   "outputs": [
    {
     "data": {
      "text/plain": [
       "LinearRegression()"
      ]
     },
     "execution_count": 201,
     "metadata": {},
     "output_type": "execute_result"
    }
   ],
   "source": [
    "linear_regression"
   ]
  },
  {
   "cell_type": "code",
   "execution_count": 202,
   "id": "af9eec3f",
   "metadata": {},
   "outputs": [
    {
     "data": {
      "text/plain": [
       "LinearRegression()"
      ]
     },
     "execution_count": 202,
     "metadata": {},
     "output_type": "execute_result"
    }
   ],
   "source": [
    "linear_regression.fit(X=X_train, y=y_train)"
   ]
  },
  {
   "cell_type": "code",
   "execution_count": 203,
   "id": "8f60228e",
   "metadata": {},
   "outputs": [],
   "source": [
    "#iteratively adjust the slope and the intercept to minimize the sum of the squares\n",
    "#We wnat to check whether there is linear relationship between Year and Number of maternal deaths\n"
   ]
  },
  {
   "cell_type": "markdown",
   "id": "114fe09f",
   "metadata": {},
   "source": [
    "Number_of_Maternal_deaths$=b_0 +Yearb_1$"
   ]
  },
  {
   "cell_type": "code",
   "execution_count": 204,
   "id": "8dc215f0",
   "metadata": {},
   "outputs": [
    {
     "data": {
      "text/plain": [
       "array([-306.14927905])"
      ]
     },
     "execution_count": 204,
     "metadata": {},
     "output_type": "execute_result"
    }
   ],
   "source": [
    "linear_regression.coef_"
   ]
  },
  {
   "cell_type": "code",
   "execution_count": 205,
   "id": "1b61ca55",
   "metadata": {},
   "outputs": [
    {
     "data": {
      "text/plain": [
       "621944.3172179812"
      ]
     },
     "execution_count": 205,
     "metadata": {},
     "output_type": "execute_result"
    }
   ],
   "source": [
    "linear_regression.intercept_"
   ]
  },
  {
   "cell_type": "code",
   "execution_count": 206,
   "id": "779a2b43",
   "metadata": {},
   "outputs": [
    {
     "data": {
      "text/plain": [
       "461.2807464811485"
      ]
     },
     "execution_count": 206,
     "metadata": {},
     "output_type": "execute_result"
    }
   ],
   "source": [
    "# substitute Year to get  No of maternal deaths during that year\n",
    "621944.3172179812+-306.14927905* 2030"
   ]
  },
  {
   "cell_type": "markdown",
   "id": "7900eb65",
   "metadata": {},
   "source": [
    "From this data it depicts that maternal deaths will continue to decrease in future as at 2030 we see we will have a number of 462 maternal deaths in Kenya\n",
    "\n",
    "\n"
   ]
  },
  {
   "cell_type": "code",
   "execution_count": 207,
   "id": "e4e7608e",
   "metadata": {},
   "outputs": [],
   "source": [
    "# Testing the model"
   ]
  },
  {
   "cell_type": "code",
   "execution_count": 208,
   "id": "cad8ea0d",
   "metadata": {},
   "outputs": [],
   "source": [
    "predicted= linear_regression.predict(x_test)"
   ]
  },
  {
   "cell_type": "code",
   "execution_count": 209,
   "id": "ea916496",
   "metadata": {},
   "outputs": [],
   "source": [
    "expected=y_test"
   ]
  },
  {
   "cell_type": "code",
   "execution_count": 210,
   "id": "8da74ed2",
   "metadata": {},
   "outputs": [
    {
     "name": "stdout",
     "output_type": "stream",
     "text": [
      "predicted: 6890.42, expected: 6900.00\n",
      "predicted: 7808.86, expected: 8300.00\n",
      "predicted: 8727.31, expected: 9200.00\n",
      "predicted: 8115.01, expected: 8700.00\n",
      "predicted: 4441.22, expected: 5000.00\n"
     ]
    }
   ],
   "source": [
    "for p, e in zip(predicted [::], expected [::]):\n",
    "    print (f'predicted: {p:.2f}, expected: {e:.2f}')"
   ]
  },
  {
   "cell_type": "code",
   "execution_count": 211,
   "id": "108a64ac",
   "metadata": {},
   "outputs": [],
   "source": [
    "predict=(lambda x: linear_regression.coef_ * x + linear_regression.intercept_)"
   ]
  },
  {
   "cell_type": "code",
   "execution_count": 212,
   "id": "9b349cad",
   "metadata": {},
   "outputs": [
    {
     "data": {
      "text/plain": [
       "array([461.2807464])"
      ]
     },
     "execution_count": 212,
     "metadata": {},
     "output_type": "execute_result"
    }
   ],
   "source": [
    "predict(2030)"
   ]
  },
  {
   "cell_type": "markdown",
   "id": "f7be575b",
   "metadata": {},
   "source": [
    "### visualization of the data"
   ]
  },
  {
   "cell_type": "code",
   "execution_count": 213,
   "id": "bf869652",
   "metadata": {},
   "outputs": [],
   "source": [
    "import seaborn as sns"
   ]
  },
  {
   "cell_type": "code",
   "execution_count": 214,
   "id": "54657be4",
   "metadata": {},
   "outputs": [],
   "source": [
    "import numpy as np"
   ]
  },
  {
   "cell_type": "code",
   "execution_count": 215,
   "id": "5154dbd6",
   "metadata": {},
   "outputs": [
    {
     "data": {
      "image/png": "[encoded data removed]",
      "text/plain": [
       "<Figure size 432x288 with 1 Axes>"
      ]
     },
     "metadata": {
      "needs_background": "light"
     },
     "output_type": "display_data"
    }
   ],
   "source": [
    "axes=sns.scatterplot(data=MaternalDeaths, x='Year',y='Number_of_Maternal_deaths',hue='Number_of_Maternal_deaths',palette='winter',legend=False)\n",
    "axes.set_ylim(10,10000)#limit distribution\n",
    "x=np.array( [min(MaternalDeaths.Year.values),max(MaternalDeaths.Year.values)])\n",
    "y=predict (x)\n",
    "import matplotlib.pyplot as plt\n",
    "line=plt.plot (x,y)"
   ]
  },
  {
   "cell_type": "markdown",
   "id": "ee2172e5",
   "metadata": {},
   "source": [
    "From the results we can see that the number of maternal deaths are decreasing over time."
   ]
  },
  {
   "cell_type": "markdown",
   "id": "7dade1d3",
   "metadata": {},
   "source": [
    "## TOTAL NUMBER OF MATERNAL DEATHS IN NAKURU"
   ]
  },
  {
   "cell_type": "code",
   "execution_count": 216,
   "id": "bc0a7ede",
   "metadata": {},
   "outputs": [],
   "source": [
    "MaternalDeathsNakuru=pd.read_csv('Monthly_maternal_health_care_statistics_for_Nakuru_county_2012_2016.csv')"
   ]
  },
  {
   "cell_type": "code",
   "execution_count": 217,
   "id": "ee920e19",
   "metadata": {},
   "outputs": [
    {
     "data": {
      "text/html": [
       "<div>\n",
       "<style scoped>\n",
       "    .dataframe tbody tr th:only-of-type {\n",
       "        vertical-align: middle;\n",
       "    }\n",
       "\n",
       "    .dataframe tbody tr th {\n",
       "        vertical-align: top;\n",
       "    }\n",
       "\n",
       "    .dataframe thead th {\n",
       "        text-align: right;\n",
       "    }\n",
       "</style>\n",
       "<table border=\"1\" class=\"dataframe\">\n",
       "  <thead>\n",
       "    <tr style=\"text-align: right;\">\n",
       "      <th></th>\n",
       "      <th>OBJECTID</th>\n",
       "      <th>No of Maternal Deaths</th>\n",
       "      <th>Date</th>\n",
       "    </tr>\n",
       "  </thead>\n",
       "  <tbody>\n",
       "    <tr>\n",
       "      <th>0</th>\n",
       "      <td>3.0</td>\n",
       "      <td>3.0</td>\n",
       "      <td>01-Jan-12</td>\n",
       "    </tr>\n",
       "    <tr>\n",
       "      <th>1</th>\n",
       "      <td>8.0</td>\n",
       "      <td>2.0</td>\n",
       "      <td>01-Feb-12</td>\n",
       "    </tr>\n",
       "    <tr>\n",
       "      <th>2</th>\n",
       "      <td>13.0</td>\n",
       "      <td>2.0</td>\n",
       "      <td>01-Mar-12</td>\n",
       "    </tr>\n",
       "    <tr>\n",
       "      <th>3</th>\n",
       "      <td>18.0</td>\n",
       "      <td>4.0</td>\n",
       "      <td>01-Apr-12</td>\n",
       "    </tr>\n",
       "    <tr>\n",
       "      <th>4</th>\n",
       "      <td>23.0</td>\n",
       "      <td>3.0</td>\n",
       "      <td>01-May-12</td>\n",
       "    </tr>\n",
       "  </tbody>\n",
       "</table>\n",
       "</div>"
      ],
      "text/plain": [
       "   OBJECTID  No of Maternal Deaths       Date\n",
       "0       3.0                    3.0  01-Jan-12\n",
       "1       8.0                    2.0  01-Feb-12\n",
       "2      13.0                    2.0  01-Mar-12\n",
       "3      18.0                    4.0  01-Apr-12\n",
       "4      23.0                    3.0  01-May-12"
      ]
     },
     "execution_count": 217,
     "metadata": {},
     "output_type": "execute_result"
    }
   ],
   "source": [
    "MaternalDeathsNakuru.head()"
   ]
  },
  {
   "cell_type": "code",
   "execution_count": 218,
   "id": "93ad3f79",
   "metadata": {},
   "outputs": [
    {
     "data": {
      "text/html": [
       "<div>\n",
       "<style scoped>\n",
       "    .dataframe tbody tr th:only-of-type {\n",
       "        vertical-align: middle;\n",
       "    }\n",
       "\n",
       "    .dataframe tbody tr th {\n",
       "        vertical-align: top;\n",
       "    }\n",
       "\n",
       "    .dataframe thead th {\n",
       "        text-align: right;\n",
       "    }\n",
       "</style>\n",
       "<table border=\"1\" class=\"dataframe\">\n",
       "  <thead>\n",
       "    <tr style=\"text-align: right;\">\n",
       "      <th></th>\n",
       "      <th>OBJECTID</th>\n",
       "      <th>No of Maternal Deaths</th>\n",
       "      <th>Date</th>\n",
       "    </tr>\n",
       "  </thead>\n",
       "  <tbody>\n",
       "    <tr>\n",
       "      <th>53</th>\n",
       "      <td>268.0</td>\n",
       "      <td>4.0</td>\n",
       "      <td>01-Jun-16</td>\n",
       "    </tr>\n",
       "    <tr>\n",
       "      <th>54</th>\n",
       "      <td>273.0</td>\n",
       "      <td>1.0</td>\n",
       "      <td>01-Jul-16</td>\n",
       "    </tr>\n",
       "    <tr>\n",
       "      <th>55</th>\n",
       "      <td>278.0</td>\n",
       "      <td>2.0</td>\n",
       "      <td>01-Aug-16</td>\n",
       "    </tr>\n",
       "    <tr>\n",
       "      <th>56</th>\n",
       "      <td>283.0</td>\n",
       "      <td>2.0</td>\n",
       "      <td>01-Sep-16</td>\n",
       "    </tr>\n",
       "    <tr>\n",
       "      <th>57</th>\n",
       "      <td>NaN</td>\n",
       "      <td>162.0</td>\n",
       "      <td>NaN</td>\n",
       "    </tr>\n",
       "  </tbody>\n",
       "</table>\n",
       "</div>"
      ],
      "text/plain": [
       "    OBJECTID  No of Maternal Deaths       Date\n",
       "53     268.0                    4.0  01-Jun-16\n",
       "54     273.0                    1.0  01-Jul-16\n",
       "55     278.0                    2.0  01-Aug-16\n",
       "56     283.0                    2.0  01-Sep-16\n",
       "57       NaN                  162.0        NaN"
      ]
     },
     "execution_count": 218,
     "metadata": {},
     "output_type": "execute_result"
    }
   ],
   "source": [
    "MaternalDeathsNakuru.tail()"
   ]
  },
  {
   "cell_type": "code",
   "execution_count": 219,
   "id": "bb21ef0e",
   "metadata": {},
   "outputs": [],
   "source": [
    "MaternalDeathsNakuru.columns=('ObjectID','Number_of_maternal_deaths','Date')"
   ]
  },
  {
   "cell_type": "code",
   "execution_count": 220,
   "id": "37feab9f",
   "metadata": {},
   "outputs": [
    {
     "data": {
      "text/html": [
       "<div>\n",
       "<style scoped>\n",
       "    .dataframe tbody tr th:only-of-type {\n",
       "        vertical-align: middle;\n",
       "    }\n",
       "\n",
       "    .dataframe tbody tr th {\n",
       "        vertical-align: top;\n",
       "    }\n",
       "\n",
       "    .dataframe thead th {\n",
       "        text-align: right;\n",
       "    }\n",
       "</style>\n",
       "<table border=\"1\" class=\"dataframe\">\n",
       "  <thead>\n",
       "    <tr style=\"text-align: right;\">\n",
       "      <th></th>\n",
       "      <th>ObjectID</th>\n",
       "      <th>Number_of_maternal_deaths</th>\n",
       "      <th>Date</th>\n",
       "    </tr>\n",
       "  </thead>\n",
       "  <tbody>\n",
       "    <tr>\n",
       "      <th>0</th>\n",
       "      <td>3.0</td>\n",
       "      <td>3.0</td>\n",
       "      <td>01-Jan-12</td>\n",
       "    </tr>\n",
       "    <tr>\n",
       "      <th>1</th>\n",
       "      <td>8.0</td>\n",
       "      <td>2.0</td>\n",
       "      <td>01-Feb-12</td>\n",
       "    </tr>\n",
       "    <tr>\n",
       "      <th>2</th>\n",
       "      <td>13.0</td>\n",
       "      <td>2.0</td>\n",
       "      <td>01-Mar-12</td>\n",
       "    </tr>\n",
       "    <tr>\n",
       "      <th>3</th>\n",
       "      <td>18.0</td>\n",
       "      <td>4.0</td>\n",
       "      <td>01-Apr-12</td>\n",
       "    </tr>\n",
       "    <tr>\n",
       "      <th>4</th>\n",
       "      <td>23.0</td>\n",
       "      <td>3.0</td>\n",
       "      <td>01-May-12</td>\n",
       "    </tr>\n",
       "  </tbody>\n",
       "</table>\n",
       "</div>"
      ],
      "text/plain": [
       "   ObjectID  Number_of_maternal_deaths       Date\n",
       "0       3.0                        3.0  01-Jan-12\n",
       "1       8.0                        2.0  01-Feb-12\n",
       "2      13.0                        2.0  01-Mar-12\n",
       "3      18.0                        4.0  01-Apr-12\n",
       "4      23.0                        3.0  01-May-12"
      ]
     },
     "execution_count": 220,
     "metadata": {},
     "output_type": "execute_result"
    }
   ],
   "source": [
    "MaternalDeathsNakuru.head()"
   ]
  },
  {
   "cell_type": "code",
   "execution_count": 221,
   "id": "0cb9fe92",
   "metadata": {},
   "outputs": [
    {
     "data": {
      "text/html": [
       "<div>\n",
       "<style scoped>\n",
       "    .dataframe tbody tr th:only-of-type {\n",
       "        vertical-align: middle;\n",
       "    }\n",
       "\n",
       "    .dataframe tbody tr th {\n",
       "        vertical-align: top;\n",
       "    }\n",
       "\n",
       "    .dataframe thead th {\n",
       "        text-align: right;\n",
       "    }\n",
       "</style>\n",
       "<table border=\"1\" class=\"dataframe\">\n",
       "  <thead>\n",
       "    <tr style=\"text-align: right;\">\n",
       "      <th></th>\n",
       "      <th>ObjectID</th>\n",
       "      <th>Number_of_maternal_deaths</th>\n",
       "      <th>Date</th>\n",
       "    </tr>\n",
       "  </thead>\n",
       "  <tbody>\n",
       "    <tr>\n",
       "      <th>0</th>\n",
       "      <td>3.0</td>\n",
       "      <td>3.0</td>\n",
       "      <td>01-Jan-12</td>\n",
       "    </tr>\n",
       "    <tr>\n",
       "      <th>1</th>\n",
       "      <td>8.0</td>\n",
       "      <td>2.0</td>\n",
       "      <td>01-Feb-12</td>\n",
       "    </tr>\n",
       "    <tr>\n",
       "      <th>2</th>\n",
       "      <td>13.0</td>\n",
       "      <td>2.0</td>\n",
       "      <td>01-Mar-12</td>\n",
       "    </tr>\n",
       "    <tr>\n",
       "      <th>3</th>\n",
       "      <td>18.0</td>\n",
       "      <td>4.0</td>\n",
       "      <td>01-Apr-12</td>\n",
       "    </tr>\n",
       "    <tr>\n",
       "      <th>4</th>\n",
       "      <td>23.0</td>\n",
       "      <td>3.0</td>\n",
       "      <td>01-May-12</td>\n",
       "    </tr>\n",
       "    <tr>\n",
       "      <th>5</th>\n",
       "      <td>28.0</td>\n",
       "      <td>5.0</td>\n",
       "      <td>01-Jun-12</td>\n",
       "    </tr>\n",
       "    <tr>\n",
       "      <th>6</th>\n",
       "      <td>33.0</td>\n",
       "      <td>7.0</td>\n",
       "      <td>01-Jul-12</td>\n",
       "    </tr>\n",
       "    <tr>\n",
       "      <th>7</th>\n",
       "      <td>38.0</td>\n",
       "      <td>3.0</td>\n",
       "      <td>01-Aug-12</td>\n",
       "    </tr>\n",
       "    <tr>\n",
       "      <th>8</th>\n",
       "      <td>43.0</td>\n",
       "      <td>3.0</td>\n",
       "      <td>01-Sep-12</td>\n",
       "    </tr>\n",
       "    <tr>\n",
       "      <th>9</th>\n",
       "      <td>48.0</td>\n",
       "      <td>3.0</td>\n",
       "      <td>01-Oct-12</td>\n",
       "    </tr>\n",
       "    <tr>\n",
       "      <th>10</th>\n",
       "      <td>53.0</td>\n",
       "      <td>1.0</td>\n",
       "      <td>01-Nov-12</td>\n",
       "    </tr>\n",
       "    <tr>\n",
       "      <th>11</th>\n",
       "      <td>58.0</td>\n",
       "      <td>0.0</td>\n",
       "      <td>01-Dec-12</td>\n",
       "    </tr>\n",
       "    <tr>\n",
       "      <th>12</th>\n",
       "      <td>63.0</td>\n",
       "      <td>5.0</td>\n",
       "      <td>01-Jan-13</td>\n",
       "    </tr>\n",
       "    <tr>\n",
       "      <th>13</th>\n",
       "      <td>68.0</td>\n",
       "      <td>3.0</td>\n",
       "      <td>01-Feb-13</td>\n",
       "    </tr>\n",
       "    <tr>\n",
       "      <th>14</th>\n",
       "      <td>73.0</td>\n",
       "      <td>3.0</td>\n",
       "      <td>01-Mar-13</td>\n",
       "    </tr>\n",
       "    <tr>\n",
       "      <th>15</th>\n",
       "      <td>78.0</td>\n",
       "      <td>3.0</td>\n",
       "      <td>01-Apr-13</td>\n",
       "    </tr>\n",
       "    <tr>\n",
       "      <th>16</th>\n",
       "      <td>83.0</td>\n",
       "      <td>3.0</td>\n",
       "      <td>01-May-13</td>\n",
       "    </tr>\n",
       "    <tr>\n",
       "      <th>17</th>\n",
       "      <td>88.0</td>\n",
       "      <td>4.0</td>\n",
       "      <td>01-Jun-13</td>\n",
       "    </tr>\n",
       "    <tr>\n",
       "      <th>18</th>\n",
       "      <td>93.0</td>\n",
       "      <td>3.0</td>\n",
       "      <td>01-Jul-13</td>\n",
       "    </tr>\n",
       "    <tr>\n",
       "      <th>19</th>\n",
       "      <td>98.0</td>\n",
       "      <td>3.0</td>\n",
       "      <td>01-Aug-13</td>\n",
       "    </tr>\n",
       "    <tr>\n",
       "      <th>20</th>\n",
       "      <td>103.0</td>\n",
       "      <td>5.0</td>\n",
       "      <td>01-Sep-13</td>\n",
       "    </tr>\n",
       "    <tr>\n",
       "      <th>21</th>\n",
       "      <td>108.0</td>\n",
       "      <td>2.0</td>\n",
       "      <td>01-Oct-13</td>\n",
       "    </tr>\n",
       "    <tr>\n",
       "      <th>22</th>\n",
       "      <td>113.0</td>\n",
       "      <td>4.0</td>\n",
       "      <td>01-Nov-13</td>\n",
       "    </tr>\n",
       "    <tr>\n",
       "      <th>23</th>\n",
       "      <td>118.0</td>\n",
       "      <td>6.0</td>\n",
       "      <td>01-Dec-13</td>\n",
       "    </tr>\n",
       "    <tr>\n",
       "      <th>24</th>\n",
       "      <td>123.0</td>\n",
       "      <td>3.0</td>\n",
       "      <td>01-Jan-14</td>\n",
       "    </tr>\n",
       "    <tr>\n",
       "      <th>25</th>\n",
       "      <td>128.0</td>\n",
       "      <td>1.0</td>\n",
       "      <td>01-Feb-14</td>\n",
       "    </tr>\n",
       "    <tr>\n",
       "      <th>26</th>\n",
       "      <td>133.0</td>\n",
       "      <td>2.0</td>\n",
       "      <td>01-Mar-14</td>\n",
       "    </tr>\n",
       "    <tr>\n",
       "      <th>27</th>\n",
       "      <td>138.0</td>\n",
       "      <td>2.0</td>\n",
       "      <td>01-Apr-14</td>\n",
       "    </tr>\n",
       "    <tr>\n",
       "      <th>28</th>\n",
       "      <td>143.0</td>\n",
       "      <td>1.0</td>\n",
       "      <td>01-May-14</td>\n",
       "    </tr>\n",
       "    <tr>\n",
       "      <th>29</th>\n",
       "      <td>148.0</td>\n",
       "      <td>4.0</td>\n",
       "      <td>01-Jun-14</td>\n",
       "    </tr>\n",
       "    <tr>\n",
       "      <th>30</th>\n",
       "      <td>153.0</td>\n",
       "      <td>7.0</td>\n",
       "      <td>01-Jul-14</td>\n",
       "    </tr>\n",
       "    <tr>\n",
       "      <th>31</th>\n",
       "      <td>158.0</td>\n",
       "      <td>3.0</td>\n",
       "      <td>01-Aug-14</td>\n",
       "    </tr>\n",
       "    <tr>\n",
       "      <th>32</th>\n",
       "      <td>163.0</td>\n",
       "      <td>4.0</td>\n",
       "      <td>01-Sep-14</td>\n",
       "    </tr>\n",
       "    <tr>\n",
       "      <th>33</th>\n",
       "      <td>168.0</td>\n",
       "      <td>1.0</td>\n",
       "      <td>01-Oct-14</td>\n",
       "    </tr>\n",
       "    <tr>\n",
       "      <th>34</th>\n",
       "      <td>173.0</td>\n",
       "      <td>3.0</td>\n",
       "      <td>01-Nov-14</td>\n",
       "    </tr>\n",
       "    <tr>\n",
       "      <th>35</th>\n",
       "      <td>178.0</td>\n",
       "      <td>4.0</td>\n",
       "      <td>01-Dec-14</td>\n",
       "    </tr>\n",
       "    <tr>\n",
       "      <th>36</th>\n",
       "      <td>183.0</td>\n",
       "      <td>2.0</td>\n",
       "      <td>01-Jan-15</td>\n",
       "    </tr>\n",
       "    <tr>\n",
       "      <th>37</th>\n",
       "      <td>188.0</td>\n",
       "      <td>3.0</td>\n",
       "      <td>01-Feb-15</td>\n",
       "    </tr>\n",
       "    <tr>\n",
       "      <th>38</th>\n",
       "      <td>193.0</td>\n",
       "      <td>5.0</td>\n",
       "      <td>01-Mar-15</td>\n",
       "    </tr>\n",
       "    <tr>\n",
       "      <th>39</th>\n",
       "      <td>198.0</td>\n",
       "      <td>3.0</td>\n",
       "      <td>01-Apr-15</td>\n",
       "    </tr>\n",
       "    <tr>\n",
       "      <th>40</th>\n",
       "      <td>203.0</td>\n",
       "      <td>4.0</td>\n",
       "      <td>01-May-15</td>\n",
       "    </tr>\n",
       "    <tr>\n",
       "      <th>41</th>\n",
       "      <td>208.0</td>\n",
       "      <td>5.0</td>\n",
       "      <td>01-Jun-15</td>\n",
       "    </tr>\n",
       "    <tr>\n",
       "      <th>42</th>\n",
       "      <td>213.0</td>\n",
       "      <td>5.0</td>\n",
       "      <td>01-Jul-15</td>\n",
       "    </tr>\n",
       "    <tr>\n",
       "      <th>43</th>\n",
       "      <td>218.0</td>\n",
       "      <td>1.0</td>\n",
       "      <td>01-Aug-15</td>\n",
       "    </tr>\n",
       "    <tr>\n",
       "      <th>44</th>\n",
       "      <td>223.0</td>\n",
       "      <td>8.0</td>\n",
       "      <td>01-Sep-15</td>\n",
       "    </tr>\n",
       "    <tr>\n",
       "      <th>45</th>\n",
       "      <td>228.0</td>\n",
       "      <td>1.0</td>\n",
       "      <td>01-Oct-15</td>\n",
       "    </tr>\n",
       "    <tr>\n",
       "      <th>46</th>\n",
       "      <td>233.0</td>\n",
       "      <td>2.0</td>\n",
       "      <td>01-Nov-15</td>\n",
       "    </tr>\n",
       "    <tr>\n",
       "      <th>47</th>\n",
       "      <td>238.0</td>\n",
       "      <td>4.0</td>\n",
       "      <td>01-Dec-15</td>\n",
       "    </tr>\n",
       "    <tr>\n",
       "      <th>48</th>\n",
       "      <td>243.0</td>\n",
       "      <td>3.0</td>\n",
       "      <td>01-Jan-16</td>\n",
       "    </tr>\n",
       "    <tr>\n",
       "      <th>49</th>\n",
       "      <td>248.0</td>\n",
       "      <td>3.0</td>\n",
       "      <td>01-Feb-16</td>\n",
       "    </tr>\n",
       "    <tr>\n",
       "      <th>50</th>\n",
       "      <td>253.0</td>\n",
       "      <td>6.0</td>\n",
       "      <td>01-Mar-16</td>\n",
       "    </tr>\n",
       "    <tr>\n",
       "      <th>51</th>\n",
       "      <td>258.0</td>\n",
       "      <td>6.0</td>\n",
       "      <td>01-Apr-16</td>\n",
       "    </tr>\n",
       "    <tr>\n",
       "      <th>52</th>\n",
       "      <td>263.0</td>\n",
       "      <td>3.0</td>\n",
       "      <td>01-May-16</td>\n",
       "    </tr>\n",
       "    <tr>\n",
       "      <th>53</th>\n",
       "      <td>268.0</td>\n",
       "      <td>4.0</td>\n",
       "      <td>01-Jun-16</td>\n",
       "    </tr>\n",
       "    <tr>\n",
       "      <th>54</th>\n",
       "      <td>273.0</td>\n",
       "      <td>1.0</td>\n",
       "      <td>01-Jul-16</td>\n",
       "    </tr>\n",
       "    <tr>\n",
       "      <th>55</th>\n",
       "      <td>278.0</td>\n",
       "      <td>2.0</td>\n",
       "      <td>01-Aug-16</td>\n",
       "    </tr>\n",
       "    <tr>\n",
       "      <th>56</th>\n",
       "      <td>283.0</td>\n",
       "      <td>2.0</td>\n",
       "      <td>01-Sep-16</td>\n",
       "    </tr>\n",
       "    <tr>\n",
       "      <th>57</th>\n",
       "      <td>NaN</td>\n",
       "      <td>162.0</td>\n",
       "      <td>NaN</td>\n",
       "    </tr>\n",
       "  </tbody>\n",
       "</table>\n",
       "</div>"
      ],
      "text/plain": [
       "    ObjectID  Number_of_maternal_deaths       Date\n",
       "0        3.0                        3.0  01-Jan-12\n",
       "1        8.0                        2.0  01-Feb-12\n",
       "2       13.0                        2.0  01-Mar-12\n",
       "3       18.0                        4.0  01-Apr-12\n",
       "4       23.0                        3.0  01-May-12\n",
       "5       28.0                        5.0  01-Jun-12\n",
       "6       33.0                        7.0  01-Jul-12\n",
       "7       38.0                        3.0  01-Aug-12\n",
       "8       43.0                        3.0  01-Sep-12\n",
       "9       48.0                        3.0  01-Oct-12\n",
       "10      53.0                        1.0  01-Nov-12\n",
       "11      58.0                        0.0  01-Dec-12\n",
       "12      63.0                        5.0  01-Jan-13\n",
       "13      68.0                        3.0  01-Feb-13\n",
       "14      73.0                        3.0  01-Mar-13\n",
       "15      78.0                        3.0  01-Apr-13\n",
       "16      83.0                        3.0  01-May-13\n",
       "17      88.0                        4.0  01-Jun-13\n",
       "18      93.0                        3.0  01-Jul-13\n",
       "19      98.0                        3.0  01-Aug-13\n",
       "20     103.0                        5.0  01-Sep-13\n",
       "21     108.0                        2.0  01-Oct-13\n",
       "22     113.0                        4.0  01-Nov-13\n",
       "23     118.0                        6.0  01-Dec-13\n",
       "24     123.0                        3.0  01-Jan-14\n",
       "25     128.0                        1.0  01-Feb-14\n",
       "26     133.0                        2.0  01-Mar-14\n",
       "27     138.0                        2.0  01-Apr-14\n",
       "28     143.0                        1.0  01-May-14\n",
       "29     148.0                        4.0  01-Jun-14\n",
       "30     153.0                        7.0  01-Jul-14\n",
       "31     158.0                        3.0  01-Aug-14\n",
       "32     163.0                        4.0  01-Sep-14\n",
       "33     168.0                        1.0  01-Oct-14\n",
       "34     173.0                        3.0  01-Nov-14\n",
       "35     178.0                        4.0  01-Dec-14\n",
       "36     183.0                        2.0  01-Jan-15\n",
       "37     188.0                        3.0  01-Feb-15\n",
       "38     193.0                        5.0  01-Mar-15\n",
       "39     198.0                        3.0  01-Apr-15\n",
       "40     203.0                        4.0  01-May-15\n",
       "41     208.0                        5.0  01-Jun-15\n",
       "42     213.0                        5.0  01-Jul-15\n",
       "43     218.0                        1.0  01-Aug-15\n",
       "44     223.0                        8.0  01-Sep-15\n",
       "45     228.0                        1.0  01-Oct-15\n",
       "46     233.0                        2.0  01-Nov-15\n",
       "47     238.0                        4.0  01-Dec-15\n",
       "48     243.0                        3.0  01-Jan-16\n",
       "49     248.0                        3.0  01-Feb-16\n",
       "50     253.0                        6.0  01-Mar-16\n",
       "51     258.0                        6.0  01-Apr-16\n",
       "52     263.0                        3.0  01-May-16\n",
       "53     268.0                        4.0  01-Jun-16\n",
       "54     273.0                        1.0  01-Jul-16\n",
       "55     278.0                        2.0  01-Aug-16\n",
       "56     283.0                        2.0  01-Sep-16\n",
       "57       NaN                      162.0        NaN"
      ]
     },
     "execution_count": 221,
     "metadata": {},
     "output_type": "execute_result"
    }
   ],
   "source": [
    "MaternalDeathsNakuru"
   ]
  },
  {
   "cell_type": "code",
   "execution_count": 222,
   "id": "4033cfdb",
   "metadata": {},
   "outputs": [],
   "source": [
    "from numpy import nan"
   ]
  },
  {
   "cell_type": "code",
   "execution_count": 223,
   "id": "9a5699b4",
   "metadata": {},
   "outputs": [],
   "source": [
    "Nakuru=pd.DataFrame(MaternalDeathsNakuru,columns=['ObjectID','Number_of_maternal_deaths','Date'])\n",
    "Nakuru=Nakuru.dropna()\n",
    "Nakuru=Nakuru.reset_index(drop=True)                                             "
   ]
  },
  {
   "cell_type": "code",
   "execution_count": 224,
   "id": "4992c873",
   "metadata": {},
   "outputs": [
    {
     "data": {
      "text/html": [
       "<div>\n",
       "<style scoped>\n",
       "    .dataframe tbody tr th:only-of-type {\n",
       "        vertical-align: middle;\n",
       "    }\n",
       "\n",
       "    .dataframe tbody tr th {\n",
       "        vertical-align: top;\n",
       "    }\n",
       "\n",
       "    .dataframe thead th {\n",
       "        text-align: right;\n",
       "    }\n",
       "</style>\n",
       "<table border=\"1\" class=\"dataframe\">\n",
       "  <thead>\n",
       "    <tr style=\"text-align: right;\">\n",
       "      <th></th>\n",
       "      <th>ObjectID</th>\n",
       "      <th>Number_of_maternal_deaths</th>\n",
       "      <th>Date</th>\n",
       "    </tr>\n",
       "  </thead>\n",
       "  <tbody>\n",
       "    <tr>\n",
       "      <th>0</th>\n",
       "      <td>3.0</td>\n",
       "      <td>3.0</td>\n",
       "      <td>01-Jan-12</td>\n",
       "    </tr>\n",
       "    <tr>\n",
       "      <th>1</th>\n",
       "      <td>8.0</td>\n",
       "      <td>2.0</td>\n",
       "      <td>01-Feb-12</td>\n",
       "    </tr>\n",
       "    <tr>\n",
       "      <th>2</th>\n",
       "      <td>13.0</td>\n",
       "      <td>2.0</td>\n",
       "      <td>01-Mar-12</td>\n",
       "    </tr>\n",
       "    <tr>\n",
       "      <th>3</th>\n",
       "      <td>18.0</td>\n",
       "      <td>4.0</td>\n",
       "      <td>01-Apr-12</td>\n",
       "    </tr>\n",
       "    <tr>\n",
       "      <th>4</th>\n",
       "      <td>23.0</td>\n",
       "      <td>3.0</td>\n",
       "      <td>01-May-12</td>\n",
       "    </tr>\n",
       "    <tr>\n",
       "      <th>5</th>\n",
       "      <td>28.0</td>\n",
       "      <td>5.0</td>\n",
       "      <td>01-Jun-12</td>\n",
       "    </tr>\n",
       "    <tr>\n",
       "      <th>6</th>\n",
       "      <td>33.0</td>\n",
       "      <td>7.0</td>\n",
       "      <td>01-Jul-12</td>\n",
       "    </tr>\n",
       "    <tr>\n",
       "      <th>7</th>\n",
       "      <td>38.0</td>\n",
       "      <td>3.0</td>\n",
       "      <td>01-Aug-12</td>\n",
       "    </tr>\n",
       "    <tr>\n",
       "      <th>8</th>\n",
       "      <td>43.0</td>\n",
       "      <td>3.0</td>\n",
       "      <td>01-Sep-12</td>\n",
       "    </tr>\n",
       "    <tr>\n",
       "      <th>9</th>\n",
       "      <td>48.0</td>\n",
       "      <td>3.0</td>\n",
       "      <td>01-Oct-12</td>\n",
       "    </tr>\n",
       "    <tr>\n",
       "      <th>10</th>\n",
       "      <td>53.0</td>\n",
       "      <td>1.0</td>\n",
       "      <td>01-Nov-12</td>\n",
       "    </tr>\n",
       "    <tr>\n",
       "      <th>11</th>\n",
       "      <td>58.0</td>\n",
       "      <td>0.0</td>\n",
       "      <td>01-Dec-12</td>\n",
       "    </tr>\n",
       "    <tr>\n",
       "      <th>12</th>\n",
       "      <td>63.0</td>\n",
       "      <td>5.0</td>\n",
       "      <td>01-Jan-13</td>\n",
       "    </tr>\n",
       "    <tr>\n",
       "      <th>13</th>\n",
       "      <td>68.0</td>\n",
       "      <td>3.0</td>\n",
       "      <td>01-Feb-13</td>\n",
       "    </tr>\n",
       "    <tr>\n",
       "      <th>14</th>\n",
       "      <td>73.0</td>\n",
       "      <td>3.0</td>\n",
       "      <td>01-Mar-13</td>\n",
       "    </tr>\n",
       "    <tr>\n",
       "      <th>15</th>\n",
       "      <td>78.0</td>\n",
       "      <td>3.0</td>\n",
       "      <td>01-Apr-13</td>\n",
       "    </tr>\n",
       "    <tr>\n",
       "      <th>16</th>\n",
       "      <td>83.0</td>\n",
       "      <td>3.0</td>\n",
       "      <td>01-May-13</td>\n",
       "    </tr>\n",
       "    <tr>\n",
       "      <th>17</th>\n",
       "      <td>88.0</td>\n",
       "      <td>4.0</td>\n",
       "      <td>01-Jun-13</td>\n",
       "    </tr>\n",
       "    <tr>\n",
       "      <th>18</th>\n",
       "      <td>93.0</td>\n",
       "      <td>3.0</td>\n",
       "      <td>01-Jul-13</td>\n",
       "    </tr>\n",
       "    <tr>\n",
       "      <th>19</th>\n",
       "      <td>98.0</td>\n",
       "      <td>3.0</td>\n",
       "      <td>01-Aug-13</td>\n",
       "    </tr>\n",
       "    <tr>\n",
       "      <th>20</th>\n",
       "      <td>103.0</td>\n",
       "      <td>5.0</td>\n",
       "      <td>01-Sep-13</td>\n",
       "    </tr>\n",
       "    <tr>\n",
       "      <th>21</th>\n",
       "      <td>108.0</td>\n",
       "      <td>2.0</td>\n",
       "      <td>01-Oct-13</td>\n",
       "    </tr>\n",
       "    <tr>\n",
       "      <th>22</th>\n",
       "      <td>113.0</td>\n",
       "      <td>4.0</td>\n",
       "      <td>01-Nov-13</td>\n",
       "    </tr>\n",
       "    <tr>\n",
       "      <th>23</th>\n",
       "      <td>118.0</td>\n",
       "      <td>6.0</td>\n",
       "      <td>01-Dec-13</td>\n",
       "    </tr>\n",
       "    <tr>\n",
       "      <th>24</th>\n",
       "      <td>123.0</td>\n",
       "      <td>3.0</td>\n",
       "      <td>01-Jan-14</td>\n",
       "    </tr>\n",
       "    <tr>\n",
       "      <th>25</th>\n",
       "      <td>128.0</td>\n",
       "      <td>1.0</td>\n",
       "      <td>01-Feb-14</td>\n",
       "    </tr>\n",
       "    <tr>\n",
       "      <th>26</th>\n",
       "      <td>133.0</td>\n",
       "      <td>2.0</td>\n",
       "      <td>01-Mar-14</td>\n",
       "    </tr>\n",
       "    <tr>\n",
       "      <th>27</th>\n",
       "      <td>138.0</td>\n",
       "      <td>2.0</td>\n",
       "      <td>01-Apr-14</td>\n",
       "    </tr>\n",
       "    <tr>\n",
       "      <th>28</th>\n",
       "      <td>143.0</td>\n",
       "      <td>1.0</td>\n",
       "      <td>01-May-14</td>\n",
       "    </tr>\n",
       "    <tr>\n",
       "      <th>29</th>\n",
       "      <td>148.0</td>\n",
       "      <td>4.0</td>\n",
       "      <td>01-Jun-14</td>\n",
       "    </tr>\n",
       "    <tr>\n",
       "      <th>30</th>\n",
       "      <td>153.0</td>\n",
       "      <td>7.0</td>\n",
       "      <td>01-Jul-14</td>\n",
       "    </tr>\n",
       "    <tr>\n",
       "      <th>31</th>\n",
       "      <td>158.0</td>\n",
       "      <td>3.0</td>\n",
       "      <td>01-Aug-14</td>\n",
       "    </tr>\n",
       "    <tr>\n",
       "      <th>32</th>\n",
       "      <td>163.0</td>\n",
       "      <td>4.0</td>\n",
       "      <td>01-Sep-14</td>\n",
       "    </tr>\n",
       "    <tr>\n",
       "      <th>33</th>\n",
       "      <td>168.0</td>\n",
       "      <td>1.0</td>\n",
       "      <td>01-Oct-14</td>\n",
       "    </tr>\n",
       "    <tr>\n",
       "      <th>34</th>\n",
       "      <td>173.0</td>\n",
       "      <td>3.0</td>\n",
       "      <td>01-Nov-14</td>\n",
       "    </tr>\n",
       "    <tr>\n",
       "      <th>35</th>\n",
       "      <td>178.0</td>\n",
       "      <td>4.0</td>\n",
       "      <td>01-Dec-14</td>\n",
       "    </tr>\n",
       "    <tr>\n",
       "      <th>36</th>\n",
       "      <td>183.0</td>\n",
       "      <td>2.0</td>\n",
       "      <td>01-Jan-15</td>\n",
       "    </tr>\n",
       "    <tr>\n",
       "      <th>37</th>\n",
       "      <td>188.0</td>\n",
       "      <td>3.0</td>\n",
       "      <td>01-Feb-15</td>\n",
       "    </tr>\n",
       "    <tr>\n",
       "      <th>38</th>\n",
       "      <td>193.0</td>\n",
       "      <td>5.0</td>\n",
       "      <td>01-Mar-15</td>\n",
       "    </tr>\n",
       "    <tr>\n",
       "      <th>39</th>\n",
       "      <td>198.0</td>\n",
       "      <td>3.0</td>\n",
       "      <td>01-Apr-15</td>\n",
       "    </tr>\n",
       "    <tr>\n",
       "      <th>40</th>\n",
       "      <td>203.0</td>\n",
       "      <td>4.0</td>\n",
       "      <td>01-May-15</td>\n",
       "    </tr>\n",
       "    <tr>\n",
       "      <th>41</th>\n",
       "      <td>208.0</td>\n",
       "      <td>5.0</td>\n",
       "      <td>01-Jun-15</td>\n",
       "    </tr>\n",
       "    <tr>\n",
       "      <th>42</th>\n",
       "      <td>213.0</td>\n",
       "      <td>5.0</td>\n",
       "      <td>01-Jul-15</td>\n",
       "    </tr>\n",
       "    <tr>\n",
       "      <th>43</th>\n",
       "      <td>218.0</td>\n",
       "      <td>1.0</td>\n",
       "      <td>01-Aug-15</td>\n",
       "    </tr>\n",
       "    <tr>\n",
       "      <th>44</th>\n",
       "      <td>223.0</td>\n",
       "      <td>8.0</td>\n",
       "      <td>01-Sep-15</td>\n",
       "    </tr>\n",
       "    <tr>\n",
       "      <th>45</th>\n",
       "      <td>228.0</td>\n",
       "      <td>1.0</td>\n",
       "      <td>01-Oct-15</td>\n",
       "    </tr>\n",
       "    <tr>\n",
       "      <th>46</th>\n",
       "      <td>233.0</td>\n",
       "      <td>2.0</td>\n",
       "      <td>01-Nov-15</td>\n",
       "    </tr>\n",
       "    <tr>\n",
       "      <th>47</th>\n",
       "      <td>238.0</td>\n",
       "      <td>4.0</td>\n",
       "      <td>01-Dec-15</td>\n",
       "    </tr>\n",
       "    <tr>\n",
       "      <th>48</th>\n",
       "      <td>243.0</td>\n",
       "      <td>3.0</td>\n",
       "      <td>01-Jan-16</td>\n",
       "    </tr>\n",
       "    <tr>\n",
       "      <th>49</th>\n",
       "      <td>248.0</td>\n",
       "      <td>3.0</td>\n",
       "      <td>01-Feb-16</td>\n",
       "    </tr>\n",
       "    <tr>\n",
       "      <th>50</th>\n",
       "      <td>253.0</td>\n",
       "      <td>6.0</td>\n",
       "      <td>01-Mar-16</td>\n",
       "    </tr>\n",
       "    <tr>\n",
       "      <th>51</th>\n",
       "      <td>258.0</td>\n",
       "      <td>6.0</td>\n",
       "      <td>01-Apr-16</td>\n",
       "    </tr>\n",
       "    <tr>\n",
       "      <th>52</th>\n",
       "      <td>263.0</td>\n",
       "      <td>3.0</td>\n",
       "      <td>01-May-16</td>\n",
       "    </tr>\n",
       "    <tr>\n",
       "      <th>53</th>\n",
       "      <td>268.0</td>\n",
       "      <td>4.0</td>\n",
       "      <td>01-Jun-16</td>\n",
       "    </tr>\n",
       "    <tr>\n",
       "      <th>54</th>\n",
       "      <td>273.0</td>\n",
       "      <td>1.0</td>\n",
       "      <td>01-Jul-16</td>\n",
       "    </tr>\n",
       "    <tr>\n",
       "      <th>55</th>\n",
       "      <td>278.0</td>\n",
       "      <td>2.0</td>\n",
       "      <td>01-Aug-16</td>\n",
       "    </tr>\n",
       "    <tr>\n",
       "      <th>56</th>\n",
       "      <td>283.0</td>\n",
       "      <td>2.0</td>\n",
       "      <td>01-Sep-16</td>\n",
       "    </tr>\n",
       "  </tbody>\n",
       "</table>\n",
       "</div>"
      ],
      "text/plain": [
       "    ObjectID  Number_of_maternal_deaths       Date\n",
       "0        3.0                        3.0  01-Jan-12\n",
       "1        8.0                        2.0  01-Feb-12\n",
       "2       13.0                        2.0  01-Mar-12\n",
       "3       18.0                        4.0  01-Apr-12\n",
       "4       23.0                        3.0  01-May-12\n",
       "5       28.0                        5.0  01-Jun-12\n",
       "6       33.0                        7.0  01-Jul-12\n",
       "7       38.0                        3.0  01-Aug-12\n",
       "8       43.0                        3.0  01-Sep-12\n",
       "9       48.0                        3.0  01-Oct-12\n",
       "10      53.0                        1.0  01-Nov-12\n",
       "11      58.0                        0.0  01-Dec-12\n",
       "12      63.0                        5.0  01-Jan-13\n",
       "13      68.0                        3.0  01-Feb-13\n",
       "14      73.0                        3.0  01-Mar-13\n",
       "15      78.0                        3.0  01-Apr-13\n",
       "16      83.0                        3.0  01-May-13\n",
       "17      88.0                        4.0  01-Jun-13\n",
       "18      93.0                        3.0  01-Jul-13\n",
       "19      98.0                        3.0  01-Aug-13\n",
       "20     103.0                        5.0  01-Sep-13\n",
       "21     108.0                        2.0  01-Oct-13\n",
       "22     113.0                        4.0  01-Nov-13\n",
       "23     118.0                        6.0  01-Dec-13\n",
       "24     123.0                        3.0  01-Jan-14\n",
       "25     128.0                        1.0  01-Feb-14\n",
       "26     133.0                        2.0  01-Mar-14\n",
       "27     138.0                        2.0  01-Apr-14\n",
       "28     143.0                        1.0  01-May-14\n",
       "29     148.0                        4.0  01-Jun-14\n",
       "30     153.0                        7.0  01-Jul-14\n",
       "31     158.0                        3.0  01-Aug-14\n",
       "32     163.0                        4.0  01-Sep-14\n",
       "33     168.0                        1.0  01-Oct-14\n",
       "34     173.0                        3.0  01-Nov-14\n",
       "35     178.0                        4.0  01-Dec-14\n",
       "36     183.0                        2.0  01-Jan-15\n",
       "37     188.0                        3.0  01-Feb-15\n",
       "38     193.0                        5.0  01-Mar-15\n",
       "39     198.0                        3.0  01-Apr-15\n",
       "40     203.0                        4.0  01-May-15\n",
       "41     208.0                        5.0  01-Jun-15\n",
       "42     213.0                        5.0  01-Jul-15\n",
       "43     218.0                        1.0  01-Aug-15\n",
       "44     223.0                        8.0  01-Sep-15\n",
       "45     228.0                        1.0  01-Oct-15\n",
       "46     233.0                        2.0  01-Nov-15\n",
       "47     238.0                        4.0  01-Dec-15\n",
       "48     243.0                        3.0  01-Jan-16\n",
       "49     248.0                        3.0  01-Feb-16\n",
       "50     253.0                        6.0  01-Mar-16\n",
       "51     258.0                        6.0  01-Apr-16\n",
       "52     263.0                        3.0  01-May-16\n",
       "53     268.0                        4.0  01-Jun-16\n",
       "54     273.0                        1.0  01-Jul-16\n",
       "55     278.0                        2.0  01-Aug-16\n",
       "56     283.0                        2.0  01-Sep-16"
      ]
     },
     "execution_count": 224,
     "metadata": {},
     "output_type": "execute_result"
    }
   ],
   "source": [
    "Nakuru"
   ]
  },
  {
   "cell_type": "code",
   "execution_count": 225,
   "id": "401bf35d",
   "metadata": {},
   "outputs": [],
   "source": [
    "Nakuru['Date']=pd.to_datetime(Nakuru['Date'])\n",
    "Nakuru['Date']=Nakuru['Date'].dt.year"
   ]
  },
  {
   "cell_type": "markdown",
   "id": "eb93fb96",
   "metadata": {},
   "source": [
    "# # Splitting the data for training and testing\n",
    "- 80/20 80 training(Number_of_maternal_deaths= b0 +b1Date) and 20 testing"
   ]
  },
  {
   "cell_type": "code",
   "execution_count": 226,
   "id": "4c4d5fb1",
   "metadata": {},
   "outputs": [
    {
     "data": {
      "text/plain": [
       "numpy.ndarray"
      ]
     },
     "execution_count": 226,
     "metadata": {},
     "output_type": "execute_result"
    }
   ],
   "source": [
    "#Series- 1 dimensional and DataFrame = in pandas -reshape(-1,1)\n",
    "type(Nakuru.Date.values)"
   ]
  },
  {
   "cell_type": "code",
   "execution_count": 227,
   "id": "86bb36fc",
   "metadata": {},
   "outputs": [
    {
     "data": {
      "text/plain": [
       "(57,)"
      ]
     },
     "execution_count": 227,
     "metadata": {},
     "output_type": "execute_result"
    }
   ],
   "source": [
    "Nakuru.Date.values.shape"
   ]
  },
  {
   "cell_type": "code",
   "execution_count": 228,
   "id": "977a33ac",
   "metadata": {},
   "outputs": [
    {
     "data": {
      "text/plain": [
       "1"
      ]
     },
     "execution_count": 228,
     "metadata": {},
     "output_type": "execute_result"
    }
   ],
   "source": [
    "Nakuru.Date.values.ndim"
   ]
  },
  {
   "cell_type": "code",
   "execution_count": 229,
   "id": "2cf38888",
   "metadata": {},
   "outputs": [],
   "source": [
    "from sklearn.model_selection import train_test_split\n",
    "X_train,X_test,y_train,y_test = train_test_split(Nakuru.Date.values.reshape(-1,1), Nakuru.Number_of_maternal_deaths.values, random_state=11)"
   ]
  },
  {
   "cell_type": "code",
   "execution_count": 230,
   "id": "e4b55597",
   "metadata": {},
   "outputs": [
    {
     "data": {
      "text/plain": [
       "(42, 1)"
      ]
     },
     "execution_count": 230,
     "metadata": {},
     "output_type": "execute_result"
    }
   ],
   "source": [
    "X_train.shape"
   ]
  },
  {
   "cell_type": "code",
   "execution_count": 231,
   "id": "97606b2d",
   "metadata": {},
   "outputs": [
    {
     "data": {
      "text/plain": [
       "(15, 1)"
      ]
     },
     "execution_count": 231,
     "metadata": {},
     "output_type": "execute_result"
    }
   ],
   "source": [
    "X_test.shape"
   ]
  },
  {
   "cell_type": "code",
   "execution_count": 232,
   "id": "cea17759",
   "metadata": {},
   "outputs": [
    {
     "data": {
      "text/plain": [
       "(42,)"
      ]
     },
     "execution_count": 232,
     "metadata": {},
     "output_type": "execute_result"
    }
   ],
   "source": [
    "y_train.shape"
   ]
  },
  {
   "cell_type": "code",
   "execution_count": 233,
   "id": "c1c8c1dc",
   "metadata": {},
   "outputs": [
    {
     "data": {
      "text/plain": [
       "(5, 1)"
      ]
     },
     "execution_count": 233,
     "metadata": {},
     "output_type": "execute_result"
    }
   ],
   "source": [
    "x_test.shape"
   ]
  },
  {
   "cell_type": "code",
   "execution_count": 234,
   "id": "9bc2fee9",
   "metadata": {},
   "outputs": [
    {
     "data": {
      "text/plain": [
       "(15,)"
      ]
     },
     "execution_count": 234,
     "metadata": {},
     "output_type": "execute_result"
    }
   ],
   "source": [
    "y_test.shape"
   ]
  },
  {
   "cell_type": "code",
   "execution_count": 235,
   "id": "c5c07ab4",
   "metadata": {},
   "outputs": [
    {
     "data": {
      "text/plain": [
       "73.68421052631578"
      ]
     },
     "execution_count": 235,
     "metadata": {},
     "output_type": "execute_result"
    }
   ],
   "source": [
    "#percentage training\n",
    "42/(42+15)*100"
   ]
  },
  {
   "cell_type": "code",
   "execution_count": 236,
   "id": "c3b20363",
   "metadata": {},
   "outputs": [],
   "source": [
    "#training the model\n",
    "from sklearn.linear_model import LinearRegression"
   ]
  },
  {
   "cell_type": "code",
   "execution_count": 237,
   "id": "ad83a037",
   "metadata": {},
   "outputs": [],
   "source": [
    "linear_regression=LinearRegression()"
   ]
  },
  {
   "cell_type": "code",
   "execution_count": 238,
   "id": "6c14deeb",
   "metadata": {},
   "outputs": [
    {
     "data": {
      "text/plain": [
       "LinearRegression()"
      ]
     },
     "execution_count": 238,
     "metadata": {},
     "output_type": "execute_result"
    }
   ],
   "source": [
    "linear_regression"
   ]
  },
  {
   "cell_type": "code",
   "execution_count": 239,
   "id": "ede7851e",
   "metadata": {},
   "outputs": [
    {
     "data": {
      "text/plain": [
       "LinearRegression()"
      ]
     },
     "execution_count": 239,
     "metadata": {},
     "output_type": "execute_result"
    }
   ],
   "source": [
    "linear_regression.fit(X_train, y_train)"
   ]
  },
  {
   "cell_type": "markdown",
   "id": "ac101a05",
   "metadata": {},
   "source": [
    "Number_of_maternal_deaths$=b_0 + Dateb_1$"
   ]
  },
  {
   "cell_type": "code",
   "execution_count": 240,
   "id": "33565ed2",
   "metadata": {},
   "outputs": [
    {
     "data": {
      "text/plain": [
       "array([-0.0342131])"
      ]
     },
     "execution_count": 240,
     "metadata": {},
     "output_type": "execute_result"
    }
   ],
   "source": [
    "linear_regression.coef_"
   ]
  },
  {
   "cell_type": "code",
   "execution_count": 241,
   "id": "8c5bf23c",
   "metadata": {},
   "outputs": [
    {
     "data": {
      "text/plain": [
       "72.06451612903227"
      ]
     },
     "execution_count": 241,
     "metadata": {},
     "output_type": "execute_result"
    }
   ],
   "source": [
    "linear_regression.intercept_"
   ]
  },
  {
   "cell_type": "markdown",
   "id": "2beb904d",
   "metadata": {},
   "source": [
    "$Number_of_maternal_deaths=72.06451612903227+-0.0342131Date"
   ]
  },
  {
   "cell_type": "code",
   "execution_count": 242,
   "id": "41ecfadd",
   "metadata": {},
   "outputs": [
    {
     "data": {
      "text/plain": [
       "1.467175772376068"
      ]
     },
     "execution_count": 242,
     "metadata": {},
     "output_type": "execute_result"
    }
   ],
   "source": [
    "#Substitute Date to get Number of maternal deaths\n",
    "4.46717577237607+-9.32441971e-19* 2027-2-1"
   ]
  },
  {
   "cell_type": "code",
   "execution_count": 243,
   "id": "5ee0a0d6",
   "metadata": {},
   "outputs": [],
   "source": [
    "#Testing the model"
   ]
  },
  {
   "cell_type": "code",
   "execution_count": 244,
   "id": "84914294",
   "metadata": {},
   "outputs": [],
   "source": [
    "predicted= linear_regression.predict(X_test)"
   ]
  },
  {
   "cell_type": "code",
   "execution_count": 245,
   "id": "76a7e550",
   "metadata": {},
   "outputs": [
    {
     "name": "stdout",
     "output_type": "stream",
     "text": [
      "Predicted:  3.1251221896383186 Actual:  5.0\n",
      "Predicted:  3.193548387096783 Actual:  2.0\n",
      "Predicted:  3.1251221896383186 Actual:  1.0\n",
      "Predicted:  3.1251221896383186 Actual:  5.0\n",
      "Predicted:  3.193548387096783 Actual:  3.0\n",
      "Predicted:  3.1251221896383186 Actual:  4.0\n",
      "Predicted:  3.227761485826008 Actual:  3.0\n",
      "Predicted:  3.1251221896383186 Actual:  8.0\n",
      "Predicted:  3.227761485826008 Actual:  2.0\n",
      "Predicted:  3.1251221896383186 Actual:  2.0\n",
      "Predicted:  3.0909090909090935 Actual:  3.0\n",
      "Predicted:  3.227761485826008 Actual:  5.0\n",
      "Predicted:  3.0909090909090935 Actual:  6.0\n",
      "Predicted:  3.193548387096783 Actual:  4.0\n",
      "Predicted:  3.0909090909090935 Actual:  2.0\n"
     ]
    }
   ],
   "source": [
    "for p_, p in zip(predicted, y_test):\n",
    "    print(f\"Predicted: \", p_, \"Actual: \", p)"
   ]
  },
  {
   "cell_type": "code",
   "execution_count": 246,
   "id": "e4186f6a",
   "metadata": {},
   "outputs": [
    {
     "name": "stdout",
     "output_type": "stream",
     "text": [
      "Root Mean Squared Error:  1.894128921869972\n"
     ]
    }
   ],
   "source": [
    "#Model evaluation\n",
    "#calculatinf RMSE\n",
    "import numpy as np\n",
    "from sklearn.metrics import mean_squared_error\n",
    "\n",
    "rmse = np.sqrt(mean_squared_error(y_test, predicted))\n",
    "print(\"Root Mean Squared Error: \", rmse)"
   ]
  },
  {
   "cell_type": "markdown",
   "id": "46dc4d26",
   "metadata": {},
   "source": [
    "### Visualization of the data"
   ]
  },
  {
   "cell_type": "code",
   "execution_count": 247,
   "id": "1f32887f",
   "metadata": {},
   "outputs": [],
   "source": [
    "import seaborn as sns"
   ]
  },
  {
   "cell_type": "code",
   "execution_count": 248,
   "id": "6194e8f9",
   "metadata": {},
   "outputs": [],
   "source": [
    "import numpy as np"
   ]
  },
  {
   "cell_type": "code",
   "execution_count": 249,
   "id": "2e13f10d",
   "metadata": {},
   "outputs": [
    {
     "data": {
      "image/png": "[encoded data removed]",
      "text/plain": [
       "<Figure size 432x288 with 1 Axes>"
      ]
     },
     "metadata": {
      "needs_background": "light"
     },
     "output_type": "display_data"
    }
   ],
   "source": [
    "axes=sns.scatterplot(data=Nakuru, x='Date',y='Number_of_maternal_deaths',hue='Number_of_maternal_deaths',palette='winter',legend=False)\n",
    "axes.set_ylim(0,10)#limit distribution\n",
    "x=np.array( [min(Nakuru.Date.values),max(Nakuru.Date.values)])\n",
    "y=predict (x)\n",
    "import matplotlib.pyplot as plt\n",
    "line=plt.plot (x,y)"
   ]
  },
  {
   "cell_type": "markdown",
   "id": "d805fbc1",
   "metadata": {},
   "source": [
    "### Results\n",
    "From the results we can see that currently as Kenya we are doing well in terms of reducing maternal deaths.Some of the interventions currently in place are\n",
    "- Free maternal Health policy since 2013\n",
    "- Encouraging women to give birth at the hospital rather than at home\n",
    "- Working with community health workers to identify preganant women in the community and sending them to hospital\n",
    "In Nakuru the number of maternal deaths was fairly constant with no noticeable drop as expected, regardless of the years. This was mostly attributed to the fact that.\n",
    "- In Nakuru awareness of maternal health systems initiatives, emergency obstetric care (EmOC) and free maternity services (FMS) by mothers is fairly low. If good services are available but no one knows about it, the implementation is a failure. There is need for widespread education on these services to both men and women in the county"
   ]
  },
  {
   "cell_type": "markdown",
   "id": "8443c6ce",
   "metadata": {},
   "source": [
    "### Conclusions\n",
    "Although Kenya as a whole still needs to work on the rate of maternal deaths we are on the right track based on future predictions.There is need to strengthen and educate the public on existing services.This would go a long way to prevent future maternal deaths.Due to our cultural dynamics it is also importnat to include men in these education forums"
   ]
  },
  {
   "cell_type": "markdown",
   "id": "b931320d",
   "metadata": {},
   "source": [
    "### References\n",
    "WHO, UNICEF, UNFPA, World Bank Group, and the United Nations Population Division (2000 to 2017). Number of maternal Deaths-Kenya. Retrieved from https://data.worldbank.org/indicator/SH.MMR.DTHS?locations=KE&name_desc=true\n",
    "\n",
    "(2012-2016) Data on the number of women seeking maternal health care on monthly basis for Nakuru county. Retrieved from https://www.opendata.go.ke/datasets/monthly-maternal-health-care-statistics-for-nakuru-county-2012-2016/explore\n",
    "\n",
    "Kingori, W & Okero,D & Mwangi, E. (2019). Uptake of maternal health systems initiatives among mothers in Nakuru County, Kenya.\n",
    "\n",
    "Dunn, A.Haque, S.Innes, M.(2011) Rural Kenyan men's awareness of danger signs of obstretic complications Retrieved from \n",
    "https://europepmc.org/article/MED/22187621\n"
   ]
  }
 ],
 "metadata": {
  "kernelspec": {
   "display_name": "Python 3",
   "language": "python",
   "name": "python3"
  },
  "language_info": {
   "codemirror_mode": {
    "name": "ipython",
    "version": 3
   },
   "file_extension": ".py",
   "mimetype": "text/x-python",
   "name": "python",
   "nbconvert_exporter": "python",
   "pygments_lexer": "ipython3",
   "version": "3.8.8"
  }
 },
 "nbformat": 4,
 "nbformat_minor": 5
}
